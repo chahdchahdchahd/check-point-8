{
 "cells": [
  {
   "cell_type": "code",
   "execution_count": 1,
   "id": "bbc59e14",
   "metadata": {},
   "outputs": [
    {
     "name": "stdout",
     "output_type": "stream",
     "text": [
      "False\n",
      "True\n"
     ]
    }
   ],
   "source": [
    "def binary_search(item_list,item):\n",
    "\tfirst = 0\n",
    "\tlast = len(item_list)-1\n",
    "\tfound = False\n",
    "\twhile( first<=last and not found):\n",
    "\t\tmid = (first + last)//2\n",
    "\t\tif item_list[mid] == item :\n",
    "\t\t\tfound = True\n",
    "\t\telse:\n",
    "\t\t\tif item < item_list[mid]:\n",
    "\t\t\t\tlast = mid - 1\n",
    "\t\t\telse:\n",
    "\t\t\t\tfirst = mid + 1\t\n",
    "\treturn found\n",
    "\t\n",
    "print(binary_search([1,2,3,5,8], 6))\n",
    "print(binary_search([1,2,3,5,8], 5))#Question 1"
   ]
  },
  {
   "cell_type": "code",
   "execution_count": 2,
   "id": "102eabb9",
   "metadata": {},
   "outputs": [
    {
     "name": "stdout",
     "output_type": "stream",
     "text": [
      "81\n"
     ]
    }
   ],
   "source": [
    "def power(a,b):\n",
    "\tif b==0:\n",
    "\t\treturn 1\n",
    "\telif a==0:\n",
    "\t\treturn 0\n",
    "\telif b==1:\n",
    "\t\treturn a\n",
    "\telse:\n",
    "\t\treturn a*power(a,b-1)\n",
    "\n",
    "print(power(3,4))#Question 2"
   ]
  },
  {
   "cell_type": "code",
   "execution_count": 4,
   "id": "0a2c2017",
   "metadata": {},
   "outputs": [
    {
     "name": "stdout",
     "output_type": "stream",
     "text": [
      "[14, 21, 27, 41, 43, 45, 46, 57, 70]\n"
     ]
    }
   ],
   "source": [
    "def bubbleSort(nlist):\n",
    "    for passnum in range(len(nlist)-1,0,-1):\n",
    "        for i in range(passnum):\n",
    "            if nlist[i]>nlist[i+1]:\n",
    "                temp = nlist[i]\n",
    "                nlist[i] = nlist[i+1]\n",
    "                nlist[i+1] = temp\n",
    "\n",
    "nlist = [14,46,43,27,57,41,45,21,70]\n",
    "bubbleSort(nlist)\n",
    "print(nlist)#Question 3"
   ]
  },
  {
   "cell_type": "code",
   "execution_count": 6,
   "id": "53d5a8ed",
   "metadata": {},
   "outputs": [
    {
     "name": "stdout",
     "output_type": "stream",
     "text": [
      "Splitting  [14, 46, 43, 27, 57, 41, 45, 21, 70]\n",
      "Splitting  [14, 46, 43, 27]\n",
      "Splitting  [14, 46]\n",
      "Splitting  [14]\n",
      "Merging  [14]\n",
      "Splitting  [46]\n",
      "Merging  [46]\n",
      "Merging  [14, 46]\n",
      "Splitting  [43, 27]\n",
      "Splitting  [43]\n",
      "Merging  [43]\n",
      "Splitting  [27]\n",
      "Merging  [27]\n",
      "Merging  [27, 43]\n",
      "Merging  [14, 27, 43, 46]\n",
      "Splitting  [57, 41, 45, 21, 70]\n",
      "Splitting  [57, 41]\n",
      "Splitting  [57]\n",
      "Merging  [57]\n",
      "Splitting  [41]\n",
      "Merging  [41]\n",
      "Merging  [41, 57]\n",
      "Splitting  [45, 21, 70]\n",
      "Splitting  [45]\n",
      "Merging  [45]\n",
      "Splitting  [21, 70]\n",
      "Splitting  [21]\n",
      "Merging  [21]\n",
      "Splitting  [70]\n",
      "Merging  [70]\n",
      "Merging  [21, 70]\n",
      "Merging  [21, 45, 70]\n",
      "Merging  [21, 41, 45, 57, 70]\n",
      "Merging  [14, 21, 27, 41, 43, 45, 46, 57, 70]\n",
      "[14, 21, 27, 41, 43, 45, 46, 57, 70]\n"
     ]
    }
   ],
   "source": [
    "def mergeSort(nlist):\n",
    "    print(\"Splitting \",nlist)\n",
    "    if len(nlist)>1:\n",
    "        mid = len(nlist)//2\n",
    "        lefthalf = nlist[:mid]\n",
    "        righthalf = nlist[mid:]\n",
    "\n",
    "        mergeSort(lefthalf)\n",
    "        mergeSort(righthalf)\n",
    "        i=j=k=0       \n",
    "        while i < len(lefthalf) and j < len(righthalf):\n",
    "            if lefthalf[i] < righthalf[j]:\n",
    "                nlist[k]=lefthalf[i]\n",
    "                i=i+1\n",
    "            else:\n",
    "                nlist[k]=righthalf[j]\n",
    "                j=j+1\n",
    "            k=k+1\n",
    "\n",
    "        while i < len(lefthalf):\n",
    "            nlist[k]=lefthalf[i]\n",
    "            i=i+1\n",
    "            k=k+1\n",
    "\n",
    "        while j < len(righthalf):\n",
    "            nlist[k]=righthalf[j]\n",
    "            j=j+1\n",
    "            k=k+1\n",
    "    print(\"Merging \",nlist)\n",
    "\n",
    "nlist = [14,46,43,27,57,41,45,21,70]\n",
    "mergeSort(nlist)\n",
    "print(nlist)#Question 4"
   ]
  },
  {
   "cell_type": "code",
   "execution_count": null,
   "id": "b7c13e49",
   "metadata": {},
   "outputs": [],
   "source": [
    "def quickSort(alist):\n",
    "   quickSortHelper(alist,0,len(alist)-1)\n",
    "\n",
    "def quickSortHelper(alist,first,last):\n",
    "   if first<last:\n",
    "\n",
    "       splitpoint = partition(alist,first,last)\n",
    "\n",
    "       quickSortHelper(alist,first,splitpoint-1)\n",
    "       quickSortHelper(alist,splitpoint+1,last)\n",
    "\n",
    "\n",
    "def partition(alist,first,last):\n",
    "   pivotvalue = alist[first]#Question 5"
   ]
  }
 ],
 "metadata": {
  "kernelspec": {
   "display_name": "Python 3",
   "language": "python",
   "name": "python3"
  },
  "language_info": {
   "codemirror_mode": {
    "name": "ipython",
    "version": 3
   },
   "file_extension": ".py",
   "mimetype": "text/x-python",
   "name": "python",
   "nbconvert_exporter": "python",
   "pygments_lexer": "ipython3",
   "version": "3.8.8"
  }
 },
 "nbformat": 4,
 "nbformat_minor": 5
}
